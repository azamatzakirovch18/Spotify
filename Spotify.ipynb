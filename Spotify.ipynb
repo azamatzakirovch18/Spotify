{
 "cells": [
  {
   "cell_type": "code",
   "id": "initial_id",
   "metadata": {
    "collapsed": true,
    "ExecuteTime": {
     "end_time": "2024-07-14T19:22:18.770212Z",
     "start_time": "2024-07-14T19:22:18.767376Z"
    }
   },
   "source": [
    "import pandas as pd\n",
    "import numpy as np\n",
    "import matplotlib.pyplot as plt"
   ],
   "outputs": [],
   "execution_count": 44
  },
  {
   "metadata": {
    "ExecuteTime": {
     "end_time": "2024-07-14T19:22:18.828046Z",
     "start_time": "2024-07-14T19:22:18.790602Z"
    }
   },
   "cell_type": "code",
   "source": [
    "df = pd.read_csv('11.csv',encoding = 'latin1')\n",
    "df.head()"
   ],
   "id": "da28069e29cbd97d",
   "outputs": [
    {
     "data": {
      "text/plain": [
       "                        Track                    Album Name          Artist  \\\n",
       "0         MILLION DOLLAR BABY  Million Dollar Baby - Single   Tommy Richman   \n",
       "1                 Not Like Us                   Not Like Us  Kendrick Lamar   \n",
       "2  i like the way you kiss me    I like the way you kiss me         Artemas   \n",
       "3                     Flowers              Flowers - Single     Miley Cyrus   \n",
       "4                     Houdini                       Houdini          Eminem   \n",
       "\n",
       "  Release Date          ISRC All Time Rank  Track Score Spotify Streams  \\\n",
       "0    4/26/2024  QM24S2402528             1        725.4     390,470,936   \n",
       "1     5/4/2024  USUG12400910             2        545.9     323,703,884   \n",
       "2    3/19/2024  QZJ842400387             3        538.4     601,309,283   \n",
       "3    1/12/2023  USSM12209777             4        444.9   2,031,280,633   \n",
       "4    5/31/2024  USUG12403398             5        423.3     107,034,922   \n",
       "\n",
       "  Spotify Playlist Count Spotify Playlist Reach  ...  SiriusXM Spins  \\\n",
       "0                 30,716            196,631,588  ...             684   \n",
       "1                 28,113            174,597,137  ...               3   \n",
       "2                 54,331            211,607,669  ...             536   \n",
       "3                269,802            136,569,078  ...           2,182   \n",
       "4                  7,223            151,469,874  ...               1   \n",
       "\n",
       "  Deezer Playlist Count Deezer Playlist Reach Amazon Playlist Count  \\\n",
       "0                  62.0            17,598,718                 114.0   \n",
       "1                  67.0            10,422,430                 111.0   \n",
       "2                 136.0            36,321,847                 172.0   \n",
       "3                 264.0            24,684,248                 210.0   \n",
       "4                  82.0            17,660,624                 105.0   \n",
       "\n",
       "  Pandora Streams Pandora Track Stations Soundcloud Streams  Shazam Counts  \\\n",
       "0      18,004,655                 22,931          4,818,457      2,669,262   \n",
       "1       7,780,028                 28,444          6,623,075      1,118,279   \n",
       "2       5,022,621                  5,639          7,208,651      5,285,340   \n",
       "3     190,260,277                203,384                NaN     11,822,942   \n",
       "4       4,493,884                  7,006            207,179        457,017   \n",
       "\n",
       "  TIDAL Popularity Explicit Track  \n",
       "0              NaN              0  \n",
       "1              NaN              1  \n",
       "2              NaN              0  \n",
       "3              NaN              0  \n",
       "4              NaN              1  \n",
       "\n",
       "[5 rows x 29 columns]"
      ],
      "text/html": [
       "<div>\n",
       "<style scoped>\n",
       "    .dataframe tbody tr th:only-of-type {\n",
       "        vertical-align: middle;\n",
       "    }\n",
       "\n",
       "    .dataframe tbody tr th {\n",
       "        vertical-align: top;\n",
       "    }\n",
       "\n",
       "    .dataframe thead th {\n",
       "        text-align: right;\n",
       "    }\n",
       "</style>\n",
       "<table border=\"1\" class=\"dataframe\">\n",
       "  <thead>\n",
       "    <tr style=\"text-align: right;\">\n",
       "      <th></th>\n",
       "      <th>Track</th>\n",
       "      <th>Album Name</th>\n",
       "      <th>Artist</th>\n",
       "      <th>Release Date</th>\n",
       "      <th>ISRC</th>\n",
       "      <th>All Time Rank</th>\n",
       "      <th>Track Score</th>\n",
       "      <th>Spotify Streams</th>\n",
       "      <th>Spotify Playlist Count</th>\n",
       "      <th>Spotify Playlist Reach</th>\n",
       "      <th>...</th>\n",
       "      <th>SiriusXM Spins</th>\n",
       "      <th>Deezer Playlist Count</th>\n",
       "      <th>Deezer Playlist Reach</th>\n",
       "      <th>Amazon Playlist Count</th>\n",
       "      <th>Pandora Streams</th>\n",
       "      <th>Pandora Track Stations</th>\n",
       "      <th>Soundcloud Streams</th>\n",
       "      <th>Shazam Counts</th>\n",
       "      <th>TIDAL Popularity</th>\n",
       "      <th>Explicit Track</th>\n",
       "    </tr>\n",
       "  </thead>\n",
       "  <tbody>\n",
       "    <tr>\n",
       "      <th>0</th>\n",
       "      <td>MILLION DOLLAR BABY</td>\n",
       "      <td>Million Dollar Baby - Single</td>\n",
       "      <td>Tommy Richman</td>\n",
       "      <td>4/26/2024</td>\n",
       "      <td>QM24S2402528</td>\n",
       "      <td>1</td>\n",
       "      <td>725.4</td>\n",
       "      <td>390,470,936</td>\n",
       "      <td>30,716</td>\n",
       "      <td>196,631,588</td>\n",
       "      <td>...</td>\n",
       "      <td>684</td>\n",
       "      <td>62.0</td>\n",
       "      <td>17,598,718</td>\n",
       "      <td>114.0</td>\n",
       "      <td>18,004,655</td>\n",
       "      <td>22,931</td>\n",
       "      <td>4,818,457</td>\n",
       "      <td>2,669,262</td>\n",
       "      <td>NaN</td>\n",
       "      <td>0</td>\n",
       "    </tr>\n",
       "    <tr>\n",
       "      <th>1</th>\n",
       "      <td>Not Like Us</td>\n",
       "      <td>Not Like Us</td>\n",
       "      <td>Kendrick Lamar</td>\n",
       "      <td>5/4/2024</td>\n",
       "      <td>USUG12400910</td>\n",
       "      <td>2</td>\n",
       "      <td>545.9</td>\n",
       "      <td>323,703,884</td>\n",
       "      <td>28,113</td>\n",
       "      <td>174,597,137</td>\n",
       "      <td>...</td>\n",
       "      <td>3</td>\n",
       "      <td>67.0</td>\n",
       "      <td>10,422,430</td>\n",
       "      <td>111.0</td>\n",
       "      <td>7,780,028</td>\n",
       "      <td>28,444</td>\n",
       "      <td>6,623,075</td>\n",
       "      <td>1,118,279</td>\n",
       "      <td>NaN</td>\n",
       "      <td>1</td>\n",
       "    </tr>\n",
       "    <tr>\n",
       "      <th>2</th>\n",
       "      <td>i like the way you kiss me</td>\n",
       "      <td>I like the way you kiss me</td>\n",
       "      <td>Artemas</td>\n",
       "      <td>3/19/2024</td>\n",
       "      <td>QZJ842400387</td>\n",
       "      <td>3</td>\n",
       "      <td>538.4</td>\n",
       "      <td>601,309,283</td>\n",
       "      <td>54,331</td>\n",
       "      <td>211,607,669</td>\n",
       "      <td>...</td>\n",
       "      <td>536</td>\n",
       "      <td>136.0</td>\n",
       "      <td>36,321,847</td>\n",
       "      <td>172.0</td>\n",
       "      <td>5,022,621</td>\n",
       "      <td>5,639</td>\n",
       "      <td>7,208,651</td>\n",
       "      <td>5,285,340</td>\n",
       "      <td>NaN</td>\n",
       "      <td>0</td>\n",
       "    </tr>\n",
       "    <tr>\n",
       "      <th>3</th>\n",
       "      <td>Flowers</td>\n",
       "      <td>Flowers - Single</td>\n",
       "      <td>Miley Cyrus</td>\n",
       "      <td>1/12/2023</td>\n",
       "      <td>USSM12209777</td>\n",
       "      <td>4</td>\n",
       "      <td>444.9</td>\n",
       "      <td>2,031,280,633</td>\n",
       "      <td>269,802</td>\n",
       "      <td>136,569,078</td>\n",
       "      <td>...</td>\n",
       "      <td>2,182</td>\n",
       "      <td>264.0</td>\n",
       "      <td>24,684,248</td>\n",
       "      <td>210.0</td>\n",
       "      <td>190,260,277</td>\n",
       "      <td>203,384</td>\n",
       "      <td>NaN</td>\n",
       "      <td>11,822,942</td>\n",
       "      <td>NaN</td>\n",
       "      <td>0</td>\n",
       "    </tr>\n",
       "    <tr>\n",
       "      <th>4</th>\n",
       "      <td>Houdini</td>\n",
       "      <td>Houdini</td>\n",
       "      <td>Eminem</td>\n",
       "      <td>5/31/2024</td>\n",
       "      <td>USUG12403398</td>\n",
       "      <td>5</td>\n",
       "      <td>423.3</td>\n",
       "      <td>107,034,922</td>\n",
       "      <td>7,223</td>\n",
       "      <td>151,469,874</td>\n",
       "      <td>...</td>\n",
       "      <td>1</td>\n",
       "      <td>82.0</td>\n",
       "      <td>17,660,624</td>\n",
       "      <td>105.0</td>\n",
       "      <td>4,493,884</td>\n",
       "      <td>7,006</td>\n",
       "      <td>207,179</td>\n",
       "      <td>457,017</td>\n",
       "      <td>NaN</td>\n",
       "      <td>1</td>\n",
       "    </tr>\n",
       "  </tbody>\n",
       "</table>\n",
       "<p>5 rows × 29 columns</p>\n",
       "</div>"
      ]
     },
     "execution_count": 45,
     "metadata": {},
     "output_type": "execute_result"
    }
   ],
   "execution_count": 45
  },
  {
   "metadata": {
    "ExecuteTime": {
     "end_time": "2024-07-14T19:22:18.832351Z",
     "start_time": "2024-07-14T19:22:18.829124Z"
    }
   },
   "cell_type": "code",
   "source": [
    "cols = df.columns\n",
    "print(cols)"
   ],
   "id": "485644372e621808",
   "outputs": [
    {
     "name": "stdout",
     "output_type": "stream",
     "text": [
      "Index(['Track', 'Album Name', 'Artist', 'Release Date', 'ISRC',\n",
      "       'All Time Rank', 'Track Score', 'Spotify Streams',\n",
      "       'Spotify Playlist Count', 'Spotify Playlist Reach',\n",
      "       'Spotify Popularity', 'YouTube Views', 'YouTube Likes', 'TikTok Posts',\n",
      "       'TikTok Likes', 'TikTok Views', 'YouTube Playlist Reach',\n",
      "       'Apple Music Playlist Count', 'AirPlay Spins', 'SiriusXM Spins',\n",
      "       'Deezer Playlist Count', 'Deezer Playlist Reach',\n",
      "       'Amazon Playlist Count', 'Pandora Streams', 'Pandora Track Stations',\n",
      "       'Soundcloud Streams', 'Shazam Counts', 'TIDAL Popularity',\n",
      "       'Explicit Track'],\n",
      "      dtype='object')\n"
     ]
    }
   ],
   "execution_count": 46
  },
  {
   "metadata": {
    "ExecuteTime": {
     "end_time": "2024-07-14T19:22:18.836352Z",
     "start_time": "2024-07-14T19:22:18.832951Z"
    }
   },
   "cell_type": "code",
   "source": "df.dtypes",
   "id": "f44c2cf9fb93dac2",
   "outputs": [
    {
     "data": {
      "text/plain": [
       "Track                          object\n",
       "Album Name                     object\n",
       "Artist                         object\n",
       "Release Date                   object\n",
       "ISRC                           object\n",
       "All Time Rank                  object\n",
       "Track Score                   float64\n",
       "Spotify Streams                object\n",
       "Spotify Playlist Count         object\n",
       "Spotify Playlist Reach         object\n",
       "Spotify Popularity            float64\n",
       "YouTube Views                  object\n",
       "YouTube Likes                  object\n",
       "TikTok Posts                   object\n",
       "TikTok Likes                   object\n",
       "TikTok Views                   object\n",
       "YouTube Playlist Reach         object\n",
       "Apple Music Playlist Count    float64\n",
       "AirPlay Spins                  object\n",
       "SiriusXM Spins                 object\n",
       "Deezer Playlist Count         float64\n",
       "Deezer Playlist Reach          object\n",
       "Amazon Playlist Count         float64\n",
       "Pandora Streams                object\n",
       "Pandora Track Stations         object\n",
       "Soundcloud Streams             object\n",
       "Shazam Counts                  object\n",
       "TIDAL Popularity              float64\n",
       "Explicit Track                  int64\n",
       "dtype: object"
      ]
     },
     "execution_count": 47,
     "metadata": {},
     "output_type": "execute_result"
    }
   ],
   "execution_count": 47
  },
  {
   "metadata": {
    "ExecuteTime": {
     "end_time": "2024-07-14T19:22:18.846262Z",
     "start_time": "2024-07-14T19:22:18.837409Z"
    }
   },
   "cell_type": "code",
   "source": "df.describe()",
   "id": "5b2c802bd7dc5793",
   "outputs": [
    {
     "data": {
      "text/plain": [
       "       Track Score  Spotify Popularity  Apple Music Playlist Count  \\\n",
       "count  4600.000000         3796.000000                  4039.00000   \n",
       "mean     41.844043           63.501581                    54.60312   \n",
       "std      38.543766           16.186438                    71.61227   \n",
       "min      19.400000            1.000000                     1.00000   \n",
       "25%      23.300000           61.000000                    10.00000   \n",
       "50%      29.900000           67.000000                    28.00000   \n",
       "75%      44.425000           73.000000                    70.00000   \n",
       "max     725.400000           96.000000                   859.00000   \n",
       "\n",
       "       Deezer Playlist Count  Amazon Playlist Count  TIDAL Popularity  \\\n",
       "count            3679.000000            3545.000000               0.0   \n",
       "mean               32.310954              25.348942               NaN   \n",
       "std                54.274538              25.989826               NaN   \n",
       "min                 1.000000               1.000000               NaN   \n",
       "25%                 5.000000               8.000000               NaN   \n",
       "50%                15.000000              17.000000               NaN   \n",
       "75%                37.000000              34.000000               NaN   \n",
       "max               632.000000             210.000000               NaN   \n",
       "\n",
       "       Explicit Track  \n",
       "count     4600.000000  \n",
       "mean         0.358913  \n",
       "std          0.479734  \n",
       "min          0.000000  \n",
       "25%          0.000000  \n",
       "50%          0.000000  \n",
       "75%          1.000000  \n",
       "max          1.000000  "
      ],
      "text/html": [
       "<div>\n",
       "<style scoped>\n",
       "    .dataframe tbody tr th:only-of-type {\n",
       "        vertical-align: middle;\n",
       "    }\n",
       "\n",
       "    .dataframe tbody tr th {\n",
       "        vertical-align: top;\n",
       "    }\n",
       "\n",
       "    .dataframe thead th {\n",
       "        text-align: right;\n",
       "    }\n",
       "</style>\n",
       "<table border=\"1\" class=\"dataframe\">\n",
       "  <thead>\n",
       "    <tr style=\"text-align: right;\">\n",
       "      <th></th>\n",
       "      <th>Track Score</th>\n",
       "      <th>Spotify Popularity</th>\n",
       "      <th>Apple Music Playlist Count</th>\n",
       "      <th>Deezer Playlist Count</th>\n",
       "      <th>Amazon Playlist Count</th>\n",
       "      <th>TIDAL Popularity</th>\n",
       "      <th>Explicit Track</th>\n",
       "    </tr>\n",
       "  </thead>\n",
       "  <tbody>\n",
       "    <tr>\n",
       "      <th>count</th>\n",
       "      <td>4600.000000</td>\n",
       "      <td>3796.000000</td>\n",
       "      <td>4039.00000</td>\n",
       "      <td>3679.000000</td>\n",
       "      <td>3545.000000</td>\n",
       "      <td>0.0</td>\n",
       "      <td>4600.000000</td>\n",
       "    </tr>\n",
       "    <tr>\n",
       "      <th>mean</th>\n",
       "      <td>41.844043</td>\n",
       "      <td>63.501581</td>\n",
       "      <td>54.60312</td>\n",
       "      <td>32.310954</td>\n",
       "      <td>25.348942</td>\n",
       "      <td>NaN</td>\n",
       "      <td>0.358913</td>\n",
       "    </tr>\n",
       "    <tr>\n",
       "      <th>std</th>\n",
       "      <td>38.543766</td>\n",
       "      <td>16.186438</td>\n",
       "      <td>71.61227</td>\n",
       "      <td>54.274538</td>\n",
       "      <td>25.989826</td>\n",
       "      <td>NaN</td>\n",
       "      <td>0.479734</td>\n",
       "    </tr>\n",
       "    <tr>\n",
       "      <th>min</th>\n",
       "      <td>19.400000</td>\n",
       "      <td>1.000000</td>\n",
       "      <td>1.00000</td>\n",
       "      <td>1.000000</td>\n",
       "      <td>1.000000</td>\n",
       "      <td>NaN</td>\n",
       "      <td>0.000000</td>\n",
       "    </tr>\n",
       "    <tr>\n",
       "      <th>25%</th>\n",
       "      <td>23.300000</td>\n",
       "      <td>61.000000</td>\n",
       "      <td>10.00000</td>\n",
       "      <td>5.000000</td>\n",
       "      <td>8.000000</td>\n",
       "      <td>NaN</td>\n",
       "      <td>0.000000</td>\n",
       "    </tr>\n",
       "    <tr>\n",
       "      <th>50%</th>\n",
       "      <td>29.900000</td>\n",
       "      <td>67.000000</td>\n",
       "      <td>28.00000</td>\n",
       "      <td>15.000000</td>\n",
       "      <td>17.000000</td>\n",
       "      <td>NaN</td>\n",
       "      <td>0.000000</td>\n",
       "    </tr>\n",
       "    <tr>\n",
       "      <th>75%</th>\n",
       "      <td>44.425000</td>\n",
       "      <td>73.000000</td>\n",
       "      <td>70.00000</td>\n",
       "      <td>37.000000</td>\n",
       "      <td>34.000000</td>\n",
       "      <td>NaN</td>\n",
       "      <td>1.000000</td>\n",
       "    </tr>\n",
       "    <tr>\n",
       "      <th>max</th>\n",
       "      <td>725.400000</td>\n",
       "      <td>96.000000</td>\n",
       "      <td>859.00000</td>\n",
       "      <td>632.000000</td>\n",
       "      <td>210.000000</td>\n",
       "      <td>NaN</td>\n",
       "      <td>1.000000</td>\n",
       "    </tr>\n",
       "  </tbody>\n",
       "</table>\n",
       "</div>"
      ]
     },
     "execution_count": 48,
     "metadata": {},
     "output_type": "execute_result"
    }
   ],
   "execution_count": 48
  },
  {
   "metadata": {
    "ExecuteTime": {
     "end_time": "2024-07-14T19:22:18.850491Z",
     "start_time": "2024-07-14T19:22:18.847451Z"
    }
   },
   "cell_type": "code",
   "source": [
    "data_types = []\n",
    "for i in cols:\n",
    "    if df[i].dtype not in data_types:\n",
    "        data_types.append(df[i].dtype)\n",
    "data_types"
   ],
   "id": "8e6569acc9c23dbb",
   "outputs": [
    {
     "data": {
      "text/plain": [
       "[dtype('O'), dtype('float64'), dtype('int64')]"
      ]
     },
     "execution_count": 49,
     "metadata": {},
     "output_type": "execute_result"
    }
   ],
   "execution_count": 49
  },
  {
   "metadata": {
    "ExecuteTime": {
     "end_time": "2024-07-14T19:22:18.856328Z",
     "start_time": "2024-07-14T19:22:18.850988Z"
    }
   },
   "cell_type": "code",
   "source": "df.isnull().sum()",
   "id": "869a3121c4d914b2",
   "outputs": [
    {
     "data": {
      "text/plain": [
       "Track                            0\n",
       "Album Name                       0\n",
       "Artist                           5\n",
       "Release Date                     0\n",
       "ISRC                             0\n",
       "All Time Rank                    0\n",
       "Track Score                      0\n",
       "Spotify Streams                113\n",
       "Spotify Playlist Count          70\n",
       "Spotify Playlist Reach          72\n",
       "Spotify Popularity             804\n",
       "YouTube Views                  308\n",
       "YouTube Likes                  315\n",
       "TikTok Posts                  1173\n",
       "TikTok Likes                   980\n",
       "TikTok Views                   981\n",
       "YouTube Playlist Reach        1009\n",
       "Apple Music Playlist Count     561\n",
       "AirPlay Spins                  498\n",
       "SiriusXM Spins                2123\n",
       "Deezer Playlist Count          921\n",
       "Deezer Playlist Reach          928\n",
       "Amazon Playlist Count         1055\n",
       "Pandora Streams               1106\n",
       "Pandora Track Stations        1268\n",
       "Soundcloud Streams            3333\n",
       "Shazam Counts                  577\n",
       "TIDAL Popularity              4600\n",
       "Explicit Track                   0\n",
       "dtype: int64"
      ]
     },
     "execution_count": 50,
     "metadata": {},
     "output_type": "execute_result"
    }
   ],
   "execution_count": 50
  },
  {
   "metadata": {
    "ExecuteTime": {
     "end_time": "2024-07-14T19:22:18.862198Z",
     "start_time": "2024-07-14T19:22:18.856800Z"
    }
   },
   "cell_type": "code",
   "source": [
    "columns_with_nulls = []\n",
    "for i in cols:\n",
    "    if df[i].isnull().sum():\n",
    "        columns_with_nulls.append(i)\n",
    "columns_with_nulls"
   ],
   "id": "3685d30d27998c36",
   "outputs": [
    {
     "data": {
      "text/plain": [
       "['Artist',\n",
       " 'Spotify Streams',\n",
       " 'Spotify Playlist Count',\n",
       " 'Spotify Playlist Reach',\n",
       " 'Spotify Popularity',\n",
       " 'YouTube Views',\n",
       " 'YouTube Likes',\n",
       " 'TikTok Posts',\n",
       " 'TikTok Likes',\n",
       " 'TikTok Views',\n",
       " 'YouTube Playlist Reach',\n",
       " 'Apple Music Playlist Count',\n",
       " 'AirPlay Spins',\n",
       " 'SiriusXM Spins',\n",
       " 'Deezer Playlist Count',\n",
       " 'Deezer Playlist Reach',\n",
       " 'Amazon Playlist Count',\n",
       " 'Pandora Streams',\n",
       " 'Pandora Track Stations',\n",
       " 'Soundcloud Streams',\n",
       " 'Shazam Counts',\n",
       " 'TIDAL Popularity']"
      ]
     },
     "execution_count": 51,
     "metadata": {},
     "output_type": "execute_result"
    }
   ],
   "execution_count": 51
  },
  {
   "metadata": {
    "ExecuteTime": {
     "end_time": "2024-07-14T19:22:18.864926Z",
     "start_time": "2024-07-14T19:22:18.862688Z"
    }
   },
   "cell_type": "code",
   "source": [
    "objects = []\n",
    "floats = []\n",
    "ints = []"
   ],
   "id": "a5721bce218e8e67",
   "outputs": [],
   "execution_count": 52
  },
  {
   "metadata": {
    "ExecuteTime": {
     "end_time": "2024-07-14T19:22:18.867721Z",
     "start_time": "2024-07-14T19:22:18.865369Z"
    }
   },
   "cell_type": "code",
   "source": [
    "for i in columns_with_nulls:\n",
    "    if df[i].dtype == 'O':\n",
    "        objects.append(i)\n",
    "    elif df[i].dtype == 'float64':\n",
    "        floats.append(i)\n",
    "    else:\n",
    "        ints.append(i)"
   ],
   "id": "7c86115c8411b2de",
   "outputs": [],
   "execution_count": 53
  },
  {
   "metadata": {
    "ExecuteTime": {
     "end_time": "2024-07-14T19:22:18.871420Z",
     "start_time": "2024-07-14T19:22:18.869443Z"
    }
   },
   "cell_type": "code",
   "source": "objects",
   "id": "4d22df68a4ddd72",
   "outputs": [
    {
     "data": {
      "text/plain": [
       "['Artist',\n",
       " 'Spotify Streams',\n",
       " 'Spotify Playlist Count',\n",
       " 'Spotify Playlist Reach',\n",
       " 'YouTube Views',\n",
       " 'YouTube Likes',\n",
       " 'TikTok Posts',\n",
       " 'TikTok Likes',\n",
       " 'TikTok Views',\n",
       " 'YouTube Playlist Reach',\n",
       " 'AirPlay Spins',\n",
       " 'SiriusXM Spins',\n",
       " 'Deezer Playlist Reach',\n",
       " 'Pandora Streams',\n",
       " 'Pandora Track Stations',\n",
       " 'Soundcloud Streams',\n",
       " 'Shazam Counts']"
      ]
     },
     "execution_count": 54,
     "metadata": {},
     "output_type": "execute_result"
    }
   ],
   "execution_count": 54
  },
  {
   "metadata": {},
   "cell_type": "markdown",
   "source": "percentage of missed values (between object data type columns)",
   "id": "d17100b73c06576"
  },
  {
   "metadata": {
    "ExecuteTime": {
     "end_time": "2024-07-14T19:22:18.977208Z",
     "start_time": "2024-07-14T19:22:18.871894Z"
    }
   },
   "cell_type": "code",
   "source": [
    "fig,ax = plt.subplots()\n",
    "for i in objects:\n",
    "    k = ax.bar(i,df[i].isnull().sum() / 46)\n",
    "\n",
    "ax.grid(True,which = 'both',axis = 'y', linestyle = ':')\n",
    "plt.xticks(rotation = 90)\n",
    "plt.show()"
   ],
   "id": "94dd77a74840d014",
   "outputs": [
    {
     "data": {
      "text/plain": [
       "<Figure size 640x480 with 1 Axes>"
      ],
      "image/png": "[encoded data removed]"
     },
     "metadata": {},
     "output_type": "display_data"
    }
   ],
   "execution_count": 55
  },
  {
   "metadata": {},
   "cell_type": "markdown",
   "source": [
    "as you can see here SiriusXM and Soundcloud Streams columns missed a lot of values. SiriusXM - 47 % and Soundcloud Streams - 72 %\n",
    "\n",
    "so i decided to drop these columns."
   ],
   "id": "a80473dffba9abff"
  },
  {
   "metadata": {
    "ExecuteTime": {
     "end_time": "2024-07-14T19:22:18.983139Z",
     "start_time": "2024-07-14T19:22:18.979271Z"
    }
   },
   "cell_type": "code",
   "source": "df.drop(['SiriusXM Spins', 'Soundcloud Streams'], axis=1, inplace=True)",
   "id": "25eb5448f0aa866",
   "outputs": [],
   "execution_count": 56
  },
  {
   "metadata": {
    "ExecuteTime": {
     "end_time": "2024-07-14T19:22:18.986822Z",
     "start_time": "2024-07-14T19:22:18.984675Z"
    }
   },
   "cell_type": "code",
   "source": [
    "objects = ['Artist',\n",
    " 'Spotify Streams',\n",
    " 'Spotify Playlist Count',\n",
    " 'Spotify Playlist Reach',\n",
    " 'YouTube Views',\n",
    " 'YouTube Likes',\n",
    " 'TikTok Posts',\n",
    " 'TikTok Likes',\n",
    " 'TikTok Views',\n",
    " 'YouTube Playlist Reach',\n",
    " 'AirPlay Spins',\n",
    " 'Deezer Playlist Reach',\n",
    " 'Pandora Streams',\n",
    " 'Pandora Track Stations',\n",
    " 'Shazam Counts']"
   ],
   "id": "a0d499526c64e1d3",
   "outputs": [],
   "execution_count": 57
  },
  {
   "metadata": {
    "ExecuteTime": {
     "end_time": "2024-07-14T19:23:13.952117Z",
     "start_time": "2024-07-14T19:23:13.928852Z"
    }
   },
   "cell_type": "code",
   "source": [
    "for i in objects:\n",
    "    mode = df[i].mode()[0]\n",
    "    df[i] = df[i].fillna(mode)\n"
   ],
   "id": "85670f98f105ef51",
   "outputs": [],
   "execution_count": 61
  },
  {
   "metadata": {
    "ExecuteTime": {
     "end_time": "2024-07-14T19:23:14.763464Z",
     "start_time": "2024-07-14T19:23:14.756419Z"
    }
   },
   "cell_type": "code",
   "source": "df[objects].isnull().sum()",
   "id": "e2c8937501c12bbf",
   "outputs": [
    {
     "data": {
      "text/plain": [
       "Artist                    0\n",
       "Spotify Streams           0\n",
       "Spotify Playlist Count    0\n",
       "Spotify Playlist Reach    0\n",
       "YouTube Views             0\n",
       "YouTube Likes             0\n",
       "TikTok Posts              0\n",
       "TikTok Likes              0\n",
       "TikTok Views              0\n",
       "YouTube Playlist Reach    0\n",
       "AirPlay Spins             0\n",
       "Deezer Playlist Reach     0\n",
       "Pandora Streams           0\n",
       "Pandora Track Stations    0\n",
       "Shazam Counts             0\n",
       "dtype: int64"
      ]
     },
     "execution_count": 62,
     "metadata": {},
     "output_type": "execute_result"
    }
   ],
   "execution_count": 62
  },
  {
   "metadata": {
    "ExecuteTime": {
     "end_time": "2024-07-14T19:24:02.861126Z",
     "start_time": "2024-07-14T19:24:02.859723Z"
    }
   },
   "cell_type": "code",
   "source": "",
   "id": "5dac897430d3c22c",
   "outputs": [],
   "execution_count": 64
  },
  {
   "metadata": {
    "ExecuteTime": {
     "end_time": "2024-07-14T19:24:00.279777Z",
     "start_time": "2024-07-14T19:24:00.278411Z"
    }
   },
   "cell_type": "code",
   "source": "",
   "id": "8dfc25c2a13955ea",
   "outputs": [],
   "execution_count": 64
  },
  {
   "metadata": {},
   "cell_type": "code",
   "outputs": [],
   "execution_count": null,
   "source": "",
   "id": "593c0e4ee23f9654"
  }
 ],
 "metadata": {
  "kernelspec": {
   "display_name": "Python 3",
   "language": "python",
   "name": "python3"
  },
  "language_info": {
   "codemirror_mode": {
    "name": "ipython",
    "version": 2
   },
   "file_extension": ".py",
   "mimetype": "text/x-python",
   "name": "python",
   "nbconvert_exporter": "python",
   "pygments_lexer": "ipython2",
   "version": "2.7.6"
  }
 },
 "nbformat": 4,
 "nbformat_minor": 5
}
